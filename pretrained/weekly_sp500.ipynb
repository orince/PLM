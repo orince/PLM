{
 "cells": [
  {
   "cell_type": "code",
   "execution_count": 1,
   "metadata": {},
   "outputs": [],
   "source": [
    "from nltk.stem import PorterStemmer\n",
    "from nltk.tokenize import sent_tokenize, word_tokenize\n",
    "import pandas as pd\n",
    "import os\n",
    "from tqdm import tqdm\n",
    "import numpy as np\n",
    "from sklearn.decomposition import TruncatedSVD\n",
    "from scipy import sparse\n",
    "\n",
    "df = pd.read_csv('/home/yuanzhi/Text_individual/codes/macro_news_2021_sp500.csv')\n",
    "df.title=df.title.apply(lambda x: eval (x))"
   ]
  },
  {
   "cell_type": "code",
   "execution_count": 2,
   "metadata": {},
   "outputs": [
    {
     "name": "stdout",
     "output_type": "stream",
     "text": [
      "columns Index(['week', 'title', 'DateEnd', 'contem_ret', 'pred_ret'], dtype='object')\n"
     ]
    }
   ],
   "source": [
    "print('columns', df.columns)\n",
    "week_news = df.title\n",
    "pred_ret = df.pred_ret\n",
    "pnn = 0\n",
    "for i in range(len(week_news)):\n",
    "    pnn += len(week_news[i])\n"
   ]
  },
  {
   "cell_type": "code",
   "execution_count": 23,
   "metadata": {},
   "outputs": [
    {
     "data": {
      "text/plain": [
       "23169"
      ]
     },
     "execution_count": 23,
     "metadata": {},
     "output_type": "execute_result"
    }
   ],
   "source": [
    "pnn"
   ]
  },
  {
   "cell_type": "code",
   "execution_count": 33,
   "metadata": {},
   "outputs": [
    {
     "data": {
      "application/vnd.jupyter.widget-view+json": {
       "model_id": "b26c2ff3f64c477a86f11b30d959406c",
       "version_major": 2,
       "version_minor": 0
      },
      "text/plain": [
       "VBox(children=(HTML(value='<center> <img\\nsrc=https://huggingface.co/front/assets/huggingface_logo-noborder.sv…"
      ]
     },
     "metadata": {},
     "output_type": "display_data"
    },
    {
     "name": "stdout",
     "output_type": "stream",
     "text": [
      "cpu\n"
     ]
    }
   ],
   "source": [
    "'''\n",
    "Author: Naixin && naixinguo2-c@my.cityu.edu.hk\n",
    "Date: 2023-01-02 14:18:49\n",
    "LastEditors: Naixin && naixinguo2-c@my.cityu.edu.hk\n",
    "LastEditTime: 2023-01-03 10:02:57\n",
    "FilePath: /Gtext/pretrained/bert.ipynb\n",
    "Description: \n",
    "\n",
    "'''\n",
    "from huggingface_hub import notebook_login\n",
    "notebook_login()\n",
    "import torch\n",
    "device = torch.device(\"cuda\" if torch.cuda.is_available() else \"cpu\")\n",
    "print(device)\n",
    "import transformers\n",
    "##hkust Contemporary Accounting Research 2022sep\n",
    "#(i) corporate annual and quarterly filings—60,490 10-Ks and 142,622 10-Qs of Russell 3000 firms between 1994 and 2019 from the SEC’s EDGAR website; \n",
    "# (ii) financial analyst reports—476,633 reports issued for S&P 500 firms between 2003 and 2012 from the Thomson Investext database; \n",
    "# (iii) earnings conference call transcripts—136,578 transcripts of 7,740 public firms between 2004 and 2019 from the SeekingAlpha website\n",
    "from transformers import BertTokenizer, BertForSequenceClassification\n",
    "from transformers import pipeline\n",
    "\n",
    "finbert1 = BertForSequenceClassification.from_pretrained('yiyanghkust/finbert-tone',num_labels=3)\n",
    "tokenizer1 = BertTokenizer.from_pretrained('yiyanghkust/finbert-tone')\n",
    "\n",
    "nlp1 = pipeline(\"sentiment-analysis\", model=finbert1, tokenizer=tokenizer1)\n",
    "#amsterdam2019\n",
    "#TRC24, which consists of 1.8M news articles that were published by Reuters between 2008 and 2010.\n",
    "#FiQA Sentiment, which created for WWW ’18 conference financial opinion mining and question answering challenge\n",
    "#Financial PhraseBank,consists of 4845 english sentences selected randomly from financial news found on LexisNexis database.These sentences then were annotated by 16 people with background in finance and business.\n",
    "#\n",
    "\n",
    "finbert2 = BertForSequenceClassification.from_pretrained('ProsusAI/finbert',num_labels=3)\n",
    "tokenizer2 = BertTokenizer.from_pretrained('ProsusAI/finbert')\n",
    "\n",
    "nlp2 = pipeline(\"sentiment-analysis\", model=finbert2, tokenizer=tokenizer2)\n",
    "\n",
    "\n",
    "from transformers import DistilBertTokenizer, DistilBertForSequenceClassification\n",
    "\n",
    "tokenizer0 = DistilBertTokenizer.from_pretrained(\"distilbert-base-uncased-finetuned-sst-2-english\")\n",
    "finbert0 = DistilBertForSequenceClassification.from_pretrained(\"distilbert-base-uncased-finetuned-sst-2-english\")\n",
    "\n",
    "nlp0 = pipeline(\"sentiment-analysis\", model=finbert0, tokenizer=tokenizer0)"
   ]
  },
  {
   "cell_type": "code",
   "execution_count": 36,
   "metadata": {},
   "outputs": [],
   "source": [
    "results1,results2,results0 = [],[],[]\n",
    "for i in range(len(week_news)):\n",
    "    results1.append(nlp1(week_news[i]))\n",
    "    results2.append(nlp2(week_news[i]))\n",
    "    results0.append(nlp0(week_news[i]))"
   ]
  },
  {
   "cell_type": "code",
   "execution_count": null,
   "metadata": {},
   "outputs": [],
   "source": [
    "sentences1 = [\"Analysis: Putin Prepares Russians for a Long Fight Ahead\",  \n",
    "             \"Europe Futures Climb as Hong Kong Stocks Rally: Markets Wrap\", \n",
    "             \"Fed Minutes to Reveal Source of Inflation Angst Pushing Up Rates\"]\n",
    "results1 = nlp1(sentences1)\n",
    "print(results1)  \n",
    "results2 = nlp2(sentences1)\n",
    "print(results2)  \n",
    "\n",
    "results0 = nlp0(sentences1)\n",
    "print(results0)  \n"
   ]
  },
  {
   "cell_type": "code",
   "execution_count": 20,
   "metadata": {},
   "outputs": [],
   "source": [
    "len(results2)\n"
   ]
  },
  {
   "cell_type": "code",
   "execution_count": 21,
   "metadata": {},
   "outputs": [
    {
     "data": {
      "text/plain": [
       "23169"
      ]
     },
     "execution_count": 21,
     "metadata": {},
     "output_type": "execute_result"
    }
   ],
   "source": []
  },
  {
   "cell_type": "code",
   "execution_count": 48,
   "metadata": {},
   "outputs": [],
   "source": [
    "hkfin_neg,hkfin_pos ,hkscore= [],[],[]\n",
    "for i in results1:\n",
    "    nlp1neg,nlp1pos,score=[],[],[]\n",
    "    \n",
    "    for j in range(len(i)):\n",
    "        score.append(i[j]['score'])\n",
    "        if i[j]['label'] == 'Negative':\n",
    "            nlp1neg.append(j)\n",
    "            # results1[i]['score'] = -results1[i]['score']\n",
    "        elif i[j]['label'] == 'Positive':\n",
    "            nlp1pos.append(j)\n",
    "    hkfin_neg.append(nlp1neg)\n",
    "    hkfin_pos.append(nlp1pos)\n",
    "    hkscore.append(score)\n",
    "    \n",
    "amsfin_neg,amsfin_pos,amsscore= [],[],[]\n",
    "for i in results2:\n",
    "    nlp2neg,nlp2pos,score=[],[],[]\n",
    "    for j in range(len(i)):\n",
    "        score.append(i[j]['score'])\n",
    "        if i[j]['label'] == 'negative':\n",
    "            nlp2neg.append(j)\n",
    "            # results1[i]['score'] = -results1[i]['score']\n",
    "        elif i[j]['label'] == 'positive':\n",
    "            nlp2pos.append(j)\n",
    "    amsfin_neg.append(nlp2neg)\n",
    "    amsfin_pos.append(nlp2pos)\n",
    "    amsscore.append(score)\n",
    "distill_neg,distill_pos,distillscore = [],[],[]\n",
    "for i in results0:\n",
    "    nlp0neg,nlp0pos,score=[],[],[]\n",
    "    for j in range(len(i)):\n",
    "        score.append(i[j]['score'])\n",
    "        if i[j]['label'] == 'NEGATIVE':\n",
    "            nlp0neg.append(j)\n",
    "            # results1[i]['score'] = -results1[i]['score']\n",
    "        elif i[j]['label'] == 'POSITIVE':\n",
    "            nlp0pos.append(j)\n",
    "    distill_neg.append(nlp0neg)\n",
    "    distill_pos.append(nlp0pos)\n",
    "    distillscore.append(score)\n",
    "            "
   ]
  },
  {
   "cell_type": "code",
   "execution_count": 38,
   "metadata": {},
   "outputs": [
    {
     "name": "stdout",
     "output_type": "stream",
     "text": [
      "num hkfin_pos: 2910 num hkfin_neg: 3928 num hkfin_natural: 16331\n",
      "num amsfin_pos: 2593 num amsfin_neg: 5469 num amsfin_natural: 15107\n",
      "num distill_pos: 10328 num distill_neg: 12841 num distill_natural: 0\n"
     ]
    }
   ],
   "source": [
    "print('num hkfin_pos:',sum(len(hkfin_pos[i]) for i in range(len(hkfin_pos))),'num hkfin_neg:',sum(len(hkfin_neg[i]) for i in range(len(hkfin_neg))),'num hkfin_natural:',pnn-sum(len(hkfin_pos[i]) for i in range(len(hkfin_pos)))-sum(len(hkfin_neg[i]) for i in range(len(hkfin_neg))))\n",
    "print('num amsfin_pos:',sum(len(amsfin_pos[i]) for i in range(len(amsfin_pos))),'num amsfin_neg:',sum(len(amsfin_neg[i]) for i in range(len(amsfin_neg))),'num amsfin_natural:',pnn-sum(len(amsfin_pos[i]) for i in range(len(amsfin_pos)))-sum(len(amsfin_neg[i]) for i in range(len(amsfin_neg))))\n",
    "print('num distill_pos:',sum(len(distill_pos[i]) for i in range(len(distill_pos))),'num distill_neg:',sum(len(distill_neg[i]) for i in range(len(distill_neg))),'num distill_natural:',pnn-sum(len(distill_pos[i]) for i in range(len(distill_pos)))-sum(len(distill_neg[i]) for i in range(len(distill_neg))))"
   ]
  },
  {
   "cell_type": "code",
   "execution_count": 91,
   "metadata": {},
   "outputs": [
    {
     "name": "stdout",
     "output_type": "stream",
     "text": [
      "1325 1634 2067\n",
      "2417 4876 3351\n"
     ]
    }
   ],
   "source": [
    "print(sum(len(set(hkfin_pos[i]) &set(amsfin_pos[i])) for i in range(len(week_news))),sum(len(set(amsfin_pos[i])& set(distill_pos[i])) for i in range(len(week_news))),sum(len(set(hkfin_pos[i])& set(distill_pos[i])) for i in range(len(week_news))))\n",
    "print(sum(len(set(hkfin_neg[i]) &set(amsfin_neg[i])) for i in range(len(week_news))),sum(len(set(amsfin_neg[i])& set(distill_neg[i])) for i in range(len(week_news))),sum(len(set(hkfin_neg[i])& set(distill_neg[i])) for i in range(len(week_news))))"
   ]
  },
  {
   "cell_type": "code",
   "execution_count": 123,
   "metadata": {},
   "outputs": [
    {
     "name": "stdout",
     "output_type": "stream",
     "text": [
      "hkams_pos: 1377 hkams_neg: 719\n",
      "amsdistill_pos: 449 amsdistill_neg: 278\n",
      "hkdistill_pos: 433 hkdistill_neg: 286\n"
     ]
    }
   ],
   "source": [
    "import heapq\n",
    "hkdistill_pos,hkdistill_neg, amsdistill_pos,amsdistill_neg, hkams_pos, hkams_neg=[],[],[],[],[],[]\n",
    "hkscorepos,hkscoreneg,amsscorepos,amsscoreneg,distillscorepos,distillscoreneg =[],[],[],[],[],[]\n",
    "for i in range(len(week_news)):\n",
    "    hkscorepos +=list(np.array(hkscore[i])[hkfin_pos[i]])\n",
    "    hkscoreneg += list(np.array(hkscore[i])[hkfin_neg[i]])\n",
    "    \n",
    "    amsscorepos += list(np.array(amsscore[i])[amsfin_pos[i]])\n",
    "    amsscoreneg +=list(np.array(amsscore[i])[amsfin_neg[i]])\n",
    "    \n",
    "    distillscorepos +=list(np.array(distillscore[i])[distill_pos[i]])\n",
    "    distillscoreneg +=list(np.array(distillscore[i])[distill_neg[i]])\n",
    "    \n",
    "hk1=[]\n",
    "for i in set(heapq.nlargest(2000, hkscorepos)):\n",
    "    hk1+=list(np.where(hkscorepos==i)[0])\n",
    "hk0=[]\n",
    "for i in set(heapq.nlargest(2000, hkscoreneg)):\n",
    "    hk0+=list(np.where(hkscoreneg==i)[0])   \n",
    "ams1=[]\n",
    "for i in set(heapq.nlargest(2000, amsscorepos)):\n",
    "    ams1+=list(np.where(amsscorepos==i)[0])\n",
    "ams0=[]\n",
    "for i in set(heapq.nlargest(2000, amsscoreneg)):\n",
    "    ams0+=list(np.where(amsscoreneg==i)[0]) \n",
    "distill1=[]\n",
    "for i in set(heapq.nlargest(2000, distillscorepos)):\n",
    "    distill1+=list(np.where(distillscorepos==i)[0])\n",
    "distill0=[]\n",
    "for i in set(heapq.nlargest(2000, distillscoreneg)):\n",
    "    distill0+=list(np.where(distillscoreneg==i)[0])      \n",
    "hkams_pos=set(hk1)&set(ams1)\n",
    "hkams_neg=set(hk0)&set(ams0)\n",
    "\n",
    "hkdistill_pos=set(hk1)&set(distill1)\n",
    "hkdistill_neg=set(hk0)&set(distill0)\n",
    "\n",
    "amsdistill_pos=set(ams1)&set(distill1)\n",
    "amsdistill_neg=set(ams0)&set(distill0)\n",
    "# hkams_pos=set(map(hkscorepos.index, heapq.nlargest(1000, hkscorepos)))&set(map(amsscorepos.index, heapq.nlargest(1000, amsscorepos)))\n",
    "# hkams_neg=set(map(hkscoreneg.index, heapq.nlargest(1000, hkscoreneg)))&set(map(amsscoreneg.index, heapq.nlargest(1000, amsscoreneg)))\n",
    "\n",
    "# hkdistill_pos=set(map(hkscorepos.index, heapq.nlargest(1000, hkscorepos)))&set(map(distillscorepos.index, heapq.nlargest(1000, distillscorepos)))\n",
    "# hkdistill_neg=set(map(hkscoreneg.index, heapq.nlargest(1000, hkscoreneg)))&set(map(distillscoreneg.index, heapq.nlargest(1000, distillscoreneg)))\n",
    "\n",
    "# amsdistill_pos=set(map(amsscorepos.index, heapq.nlargest(1000, amsscorepos)))&set(map(distillscorepos.index, heapq.nlargest(1000, distillscorepos)))\n",
    "# amsdistill_neg=set(map(amsscoreneg.index, heapq.nlargest(1000, amsscoreneg)))&set(map(distillscoreneg.index, heapq.nlargest(1000, distillscoreneg)))\n",
    "\n",
    "print('hkams_pos:',len(hkams_pos),'hkams_neg:',len(hkams_neg))\n",
    "print('amsdistill_pos:',len(amsdistill_pos),'amsdistill_neg:',len(amsdistill_neg))\n",
    "print('hkdistill_pos:',len(hkdistill_pos),'hkdistill_neg:',len(hkdistill_neg))\n"
   ]
  },
  {
   "cell_type": "code",
   "execution_count": 134,
   "metadata": {},
   "outputs": [
    {
     "data": {
      "text/plain": [
       "2910"
      ]
     },
     "execution_count": 134,
     "metadata": {},
     "output_type": "execute_result"
    }
   ],
   "source": [
    "len(all)"
   ]
  },
  {
   "cell_type": "code",
   "execution_count": 141,
   "metadata": {},
   "outputs": [
    {
     "data": {
      "text/plain": [
       "array(['Americans Deserve Better Than Clickbait Crack',\n",
       "       \"Workers' Commutes Expected to Improve\",\n",
       "       'Shipping Firm Bets Small Size Is Strength',\n",
       "       'Boss Talk: Fast-Food CEO Orders Up Online Growth',\n",
       "       \"BlackRock's Profit And Assets Surge\",\n",
       "       'World News: China Exports Hit Record in 2020, Nation withstands pandemic to post best performance among top global economies',\n",
       "       'Stellantis CEO Sees Strength in Brands, Chief of combined auto maker plans to sell vehicles under 14 lineups in 130 nations',\n",
       "       \"REVIEW, How Higher Wages Can Increase Profits, Many companies have cut or frozen employees' pay during the pandemic, but research shows that paying workers more can boost the bottom line by increasing productivity and retention.\",\n",
       "       'P&G Gets Shoppers to Pay Up, Strong sales increases reflect consumer shift to pricier products for cleaning and hygiene',\n",
       "       'Better Than Piracy'], dtype='<U331')"
      ]
     },
     "execution_count": 141,
     "metadata": {},
     "output_type": "execute_result"
    }
   ],
   "source": [
    "all = []\n",
    "for i in range(len(week_news)):\n",
    "    all+=list(np.array(week_news[i])[hkfin_pos[i]])\n",
    "seesee=np.array(all)[hk1]\n",
    "seesee[:10]"
   ]
  },
  {
   "cell_type": "code",
   "execution_count": 140,
   "metadata": {},
   "outputs": [
    {
     "data": {
      "text/plain": [
       "array(['States Struggle To Get Vaccines Deployed, Logistical snags plague local officials after government sent doses, little guidance',\n",
       "       \"Business News: Ford's Earnings Take a Hit From Decreased Truck Output\",\n",
       "       'Gucci Revenue Sinks, Hurt by Fewer Tourists, Limited New Products',\n",
       "       \"Business News: Meat Processing Stalled By Cold, Cargill, Pilgrim's Pride, Tyson, others suspend some operations amid harsh wintery storms\",\n",
       "       \"Business News: Nike's Sales Fall Short of Forecasts\",\n",
       "       'Banking Shares Drive Down S&P 500, Investors show concern about losses tied to fund unloading billions in holdings',\n",
       "       'Supplier Misses Out on Grocery Revival, Maker of store-brand product lost share as supermarket chains gained during crisis',\n",
       "       \"World News: India's Virus Surge Hurts Vaccine Efforts, Exports slow from leading producer, putting more pressure on developing nations\",\n",
       "       'Pace of Hiring Falls Unexpectedly, Job growth is sharply lower than forecast as some sectors struggle to find enough workers',\n",
       "       'SBA Struggles to Get Aid Into the Hands of Businesses, Pandemic-driven demand overwhelmed government aid programs'],\n",
       "      dtype='<U330')"
      ]
     },
     "execution_count": 140,
     "metadata": {},
     "output_type": "execute_result"
    }
   ],
   "source": [
    "all = []\n",
    "for i in range(len(week_news)):\n",
    "    all+=list(np.array(week_news[i])[hkfin_neg[i]])\n",
    "seesee=np.array(all)[hk0]\n",
    "seesee[:10]"
   ]
  },
  {
   "cell_type": "code",
   "execution_count": 145,
   "metadata": {},
   "outputs": [
    {
     "data": {
      "text/plain": [
       "array(['On-Time Deliveries Improve, for Most Part',\n",
       "       'Business News: Publicis Revenue Rose in Quarter',\n",
       "       'Business News: Zoom Video Sees Strong Growth, Company expects revenue to rise more than 41% even as pandemic eases',\n",
       "       \"Spotify Keeps Gaining Listeners, Provider of streaming content has another strong quarter, helped by 'Rogan' popularity\",\n",
       "       'Business News: Volvo Sees Steady Growth in EV Sales',\n",
       "       'U.S. News: Social Security Benefits to Rise 5.9%',\n",
       "       'Business News: Albertsons Sales Growth Outpaces Rivals in Pandemic',\n",
       "       'Business News: EV Maker Aims for Improved Ratings',\n",
       "       'Apollo Posts Higher Earnings as Value Of Portfolio Climbs',\n",
       "       \"World News: China's Exports Expanded In August\"], dtype='<U331')"
      ]
     },
     "execution_count": 145,
     "metadata": {},
     "output_type": "execute_result"
    }
   ],
   "source": [
    "all = []\n",
    "for i in range(len(week_news)):\n",
    "    all+=list(np.array(week_news[i])[amsfin_pos[i]])\n",
    "seesee=np.array(all)[ams1]\n",
    "seesee[:10]"
   ]
  },
  {
   "cell_type": "code",
   "execution_count": 144,
   "metadata": {},
   "outputs": [
    {
     "data": {
      "text/plain": [
       "array([\"Business News: Oscars Drew Its Smallest TV Audience, The ABC broadcast attracted 9.85 million viewers, down 58% from last year's event\",\n",
       "       'Pace of Hiring Falls Unexpectedly, Job growth is sharply lower than forecast as some sectors struggle to find enough workers',\n",
       "       \"Business News: Nike's Sales Fall Short of Forecasts\",\n",
       "       \"EXCHANGE, Business News: Ford's June Sales Slid, Hurt by Chip Shortage\",\n",
       "       'Banking & Finance: AIG Income Falls Sharply on Covid Costs, Insurer reports $178 million in underwriting losses tied to event, travel cancellations',\n",
       "       'Variant Slams Small-Cap Stocks, The Russell 2000 benchmark has dropped 7.4% since Omicron surfaced',\n",
       "       'U.S. News: Jobless Claims Rise, Total Recipients Fall, Uptick in applications tied to auto industry; rolls are the lowest since late March 2020',\n",
       "       'Business News: Container Imports Fall at California Ports',\n",
       "       'Shopper Pullback Leads to 1.1% Drop In July Retail Sales',\n",
       "       'Media & Technology: EBay Points to Online Slowdown, The company projects lower revenue than expected in the current quarter'],\n",
       "      dtype='<U306')"
      ]
     },
     "execution_count": 144,
     "metadata": {},
     "output_type": "execute_result"
    }
   ],
   "source": [
    "all = []\n",
    "for i in range(len(week_news)):\n",
    "    all+=list(np.array(week_news[i])[amsfin_neg[i]])\n",
    "seesee=np.array(all)[ams0]\n",
    "seesee[:10]"
   ]
  }
 ],
 "metadata": {
  "kernelspec": {
   "display_name": "Python 3",
   "language": "python",
   "name": "python3"
  },
  "language_info": {
   "codemirror_mode": {
    "name": "ipython",
    "version": 3
   },
   "file_extension": ".py",
   "mimetype": "text/x-python",
   "name": "python",
   "nbconvert_exporter": "python",
   "pygments_lexer": "ipython3",
   "version": "3.10.6"
  },
  "orig_nbformat": 4,
  "vscode": {
   "interpreter": {
    "hash": "31f2aee4e71d21fbe5cf8b01ff0e069b9275f58929596ceb00d14d90e3e16cd6"
   }
  }
 },
 "nbformat": 4,
 "nbformat_minor": 2
}
